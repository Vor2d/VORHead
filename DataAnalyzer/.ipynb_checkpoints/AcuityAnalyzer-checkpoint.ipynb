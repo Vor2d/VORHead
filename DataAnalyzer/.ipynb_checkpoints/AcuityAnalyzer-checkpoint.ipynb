{
 "cells": [
  {
   "cell_type": "code",
   "execution_count": 1,
   "metadata": {},
   "outputs": [],
   "source": [
    "from matplotlib.pyplot import *\n",
    "from matplotlib import pyplot\n",
    "import math\n",
    "from scipy.optimize import *"
   ]
  },
  {
   "cell_type": "code",
   "execution_count": 2,
   "metadata": {},
   "outputs": [],
   "source": [
    "pyplot.rcParams[\"figure.figsize\"] = (20,10)"
   ]
  },
  {
   "cell_type": "code",
   "execution_count": 3,
   "metadata": {},
   "outputs": [],
   "source": [
    "class Section:\n",
    "    \n",
    "    def __init__(self,mode):\n",
    "        self.mode = mode\n",
    "        self.A_right = [0]*AcuityNumber\n",
    "        self.A_total = [0]*AcuityNumber\n",
    "        self.A_percent = [0]*AcuityNumber\n",
    "        self.delay_dict_list = []\n",
    "        self.delay_repeat = 9\n",
    "        self.delay_percent_list = []\n",
    "        self.delay_dict = {}\n",
    "        self.dir_dict = {}\n",
    "        \n",
    "    def calcul_percent(self):\n",
    "        for i in range(0,len(self.A_total)):\n",
    "            if self.A_total[i] != 0:\n",
    "                self.A_percent[i] = self.A_right[i] / self.A_total[i]\n",
    "                \n",
    "    def calcul_delay(self):\n",
    "        itera = 0\n",
    "        for delay_dict in self.delay_dict_list:\n",
    "            self.delay_percent_list.append({})\n",
    "            for elem in delay_dict:\n",
    "                self.delay_percent_list[itera][elem] = self.delay_dict_list[itera][elem] / self.delay_repeat\n",
    "            itera += 1\n",
    "        "
   ]
  },
  {
   "cell_type": "code",
   "execution_count": 4,
   "metadata": {},
   "outputs": [],
   "source": [
    "def sigmoid1(x):\n",
    "    return 1 / (1 + math.exp(-x))"
   ]
  },
  {
   "cell_type": "code",
   "execution_count": 5,
   "metadata": {},
   "outputs": [],
   "source": [
    "def sigmoid2(x, a, b):\n",
    "    return 0.875 / (1.0 + np.exp(-a*(x-b))) + 0.125"
   ]
  },
  {
   "cell_type": "markdown",
   "metadata": {},
   "source": [
    "$$f(x) = \\frac {L}{1+e^{-k(x-x_0)}} + Base$$"
   ]
  },
  {
   "cell_type": "code",
   "execution_count": 6,
   "metadata": {},
   "outputs": [],
   "source": [
    "def sigmoid3(x,a,b,c):\n",
    "    return c / (1.0+np.exp(-a*(x-b))) +0.125"
   ]
  },
  {
   "cell_type": "markdown",
   "metadata": {},
   "source": [
    "def cur_fit(y_data):\n",
    "    popt, pcov = curve_fit(sigmoid2, range(0,len(y_data)), y_data)\n",
    "    tpl, = plot(range(0,len(y_data)), sigmoid2(range(0,len(y_data)), *popt))\n",
    "    print(popt)\n",
    "    return tpl,popt"
   ]
  },
  {
   "cell_type": "code",
   "execution_count": 7,
   "metadata": {},
   "outputs": [],
   "source": [
    "def cur_fit(y_data, x_data = []):\n",
    "    print(y_data)\n",
    "    if(len(x_data) == 0):\n",
    "        x_data = range(0,len(y_data))\n",
    "    popt, pcov = curve_fit(sigmoid3, x_data, y_data)\n",
    "    tpl, = plot(x_data, sigmoid3(x_data, *popt))\n",
    "    print(popt)\n",
    "    return tpl,popt"
   ]
  },
  {
   "cell_type": "code",
   "execution_count": 8,
   "metadata": {},
   "outputs": [],
   "source": [
    "def percent_cal(k,x0,y):\n",
    "    loge1dym1 = math.log((1/y)-1)\n",
    "    return (loge1dym1)/(-k) + x0"
   ]
  },
  {
   "cell_type": "code",
   "execution_count": 9,
   "metadata": {
    "scrolled": true
   },
   "outputs": [],
   "source": [
    "AcuityNumber = 10\n",
    "SectionNumber = 0\n",
    "path_name = \"./data/\"\n",
    "file_name = \"AcuityLog_2019_08_19_10_35_08.txt\"\n",
    "head_file_name = \"JumpLog__2019_08_19_10_35_08.txt\""
   ]
  },
  {
   "cell_type": "code",
   "execution_count": 10,
   "metadata": {},
   "outputs": [],
   "source": [
    "file = open(path_name+file_name,\"r\")\n",
    "lines = file.readlines()"
   ]
  },
  {
   "cell_type": "code",
   "execution_count": 11,
   "metadata": {},
   "outputs": [],
   "source": [
    "sections = []\n",
    "temp_section = None\n",
    "last_delay = 100\n",
    "init_delay = 0.0\n",
    "itera = -1\n",
    "last_DSS = -1\n",
    "t_iter = 0\n",
    "for line in lines:\n",
    "    strings = line.split()\n",
    "    if(len(strings) > 3):\n",
    "        if(strings[1] == \"start\"):\n",
    "            if(temp_section != None):\n",
    "                sections.append(temp_section)\n",
    "            temp_section = Section(strings[4])\n",
    "        else:\n",
    "            try:\n",
    "                AZ = int(strings[3])\n",
    "            except:\n",
    "                AZ = -100\n",
    "            if(AZ>=0):\n",
    "                temp_section.A_total[AZ] += 1\n",
    "                if(last_delay == init_delay and itera == 0):\n",
    "                    temp_section.delay_repeat += 1\n",
    "                if(not strings[5] in temp_section.dir_dict):\n",
    "                    temp_section.dir_dict[strings[5]] = (0,0)\n",
    "                if(strings[4] == \"True\"):\n",
    "                    temp_section.delay_dict[last_DSS] = (last_delay,1)\n",
    "                    temp_section.A_right[AZ] += 1\n",
    "                    if(len(temp_section.delay_dict_list) > 0):\n",
    "                        if(not last_delay in temp_section.delay_dict_list[-1].keys()):\n",
    "                            temp_section.delay_dict_list[-1][last_delay] = 1\n",
    "                        else:\n",
    "                            temp_section.delay_dict_list[-1][last_delay] += 1\n",
    "                    temp_section.dir_dict[strings[5]] = (temp_section.dir_dict[strings[5]][0] + 1, temp_section.dir_dict[strings[5]][1] + 1)\n",
    "                else:\n",
    "                    temp_section.delay_dict[last_DSS] = (last_delay,0)\n",
    "                    temp_section.dir_dict[strings[5]] = (temp_section.dir_dict[strings[5]][0], temp_section.dir_dict[strings[5]][1] + 1)\n",
    "            elif(AZ == -2):\n",
    "                if(float(strings[4]) < last_delay):\n",
    "                    itera += 1\n",
    "                    temp_section.delay_dict_list.append({})\n",
    "                last_delay = float(strings[4])\n",
    "                last_DSS = strings[1]\n",
    "                if(temp_section.delay_repeat == 0):\n",
    "                    init_delay = float(strings[4])\n",
    "if(temp_section != None):\n",
    "    sections.append(temp_section)\n",
    "\n",
    "for section in sections:\n",
    "    section.calcul_percent()\n",
    "    \n",
    "for section in sections:\n",
    "    section.calcul_delay()\n",
    "    "
   ]
  },
  {
   "cell_type": "code",
   "execution_count": 12,
   "metadata": {},
   "outputs": [],
   "source": [
    "def draw_dir_bar(dir_dict):\n",
    "    dir_dict = sorted(dir_dict.items())\n",
    "    print(dir_dict)\n",
    "    keys, RWTT = zip(*(dir_dict))\n",
    "    RW,TT = zip(*(RWTT))\n",
    "    percect = np.divide(RW,TT)\n",
    "    pyplot.bar(keys,RW,width = -0.4 ,align='edge')\n",
    "    pyplot.bar(keys,TT,width = 0.4 ,align='edge')\n",
    "    pyplot.grid(axis = 'y')\n",
    "    pyplot.savefig(\"./results/\"+file_name[:-4]+\"_DIR\"+\"0\"+\".png\")\n",
    "    pyplot.show()\n",
    "    pyplot.bar(keys,percect,width = 0.4 ,align='center')\n",
    "    pyplot.grid(axis = 'y')\n",
    "    pyplot.savefig(\"./results/\"+file_name[:-4]+\"_DIR\"+\"1\"+\".png\")\n",
    "    \n",
    "#draw_dir_bar(sections[-1].dir_dict)"
   ]
  },
  {
   "cell_type": "code",
   "execution_count": 13,
   "metadata": {},
   "outputs": [
    {
     "name": "stdout",
     "output_type": "stream",
     "text": [
      "[1782599, 1785753, 1789332, 1792386, 1796299, 1799366, 1802886, 1806599, 1809859, 1825319, 1828286, 1831352, 1834512, 1837465, 1840572, 1843698, 1846578, 1850072, 1853518, 1857826, 1861472, 1864779, 1867685, 1871671, 1875224, 1878991, 1883057, 1886824, 1890657, 1894664, 1898437, 1902097, 1905257, 1908531, 1911624, 1915204, 1919317, 1923464, 1927170, 1930870, 1934123, 1937170, 1940817, 1945016, 1948297, 1951550, 1955450, 1959056, 1962583, 1966410, 1969616, 1973303, 1976776, 1979983, 1983663, 1987456, 1991436, 1994669, 1998843, 2002349, 2005823, 2009549, 2013269, 2016722, 2020102, 2023629, 2027402, 2030842, 2034842, 2038322, 2041889, 2045222, 2049082, 2052849, 2056082, 2059868, 2063575, 2067222, 2071355, 2074395, 2078508, 2083462, 2087488, 2090888, 2094448, 2097908, 2102114, 2105881, 2109854, 2114121]\n",
      "90\n",
      "[1782293, 1785513, 1789047, 1792206, 1796053, 1799112, 1802633, 1806346, 1809592, 1824999, 1828032, 1831039, 1834145, 1837192, 1840452, 1843459, 1846306, 1849819, 1853145, 1857465, 1861098, 1864485, 1867386, 1871451, 1874964, 1878718, 1882837, 1886644, 1890424, 1894384, 1898191, 1901864, 1905004, 1908131, 1911363, 1914924, 1919037, 1923183, 1926897, 1930577, 1933770, 1936830, 1940543, 1944650, 1948057, 1951283, 1955163, 1958809, 1962323, 1966143, 1969216, 1972943, 1976476, 1979749, 1983396, 1987156, 1991169, 1994416, 1998489, 2002116, 2005556, 2009316, 2012989, 2016476, 2019742, 2023329, 2027036, 2030589, 2034489, 2038082, 2041595, 2044942, 2048902, 2052549, 2055775, 2059728, 2063315, 2066888, 2070948, 2074195, 2078168, 2083075, 2087228, 2090588, 2094128, 2097621, 2101761, 2105581, 2109608, 2113788]\n",
      "90\n"
     ]
    }
   ],
   "source": [
    "head_arr = []\n",
    "head_turn_arr = []\n",
    "def read_head():\n",
    "    file = open(path_name+head_file_name,\"r\")\n",
    "    lines = file.readlines()\n",
    "    for line in lines:\n",
    "        strings = line.split()\n",
    "        if(len(strings) > 4):\n",
    "            if(strings[4] == \"head_stop\"):\n",
    "                head_arr.append(int(strings[2]))\n",
    "            elif(strings[4] == \"head_turned\"):\n",
    "                head_turn_arr.append(int(strings[2]))\n",
    "read_head()         \n",
    "print(head_arr)\n",
    "print(len(head_arr))\n",
    "print(head_turn_arr)\n",
    "print(len(head_turn_arr))"
   ]
  },
  {
   "cell_type": "code",
   "execution_count": 14,
   "metadata": {},
   "outputs": [
    {
     "data": {
      "image/png": "[encoded data removed]",
      "text/plain": [
       "<Figure size 1440x720 with 1 Axes>"
      ]
     },
     "metadata": {
      "needs_background": "light"
     },
     "output_type": "display_data"
    }
   ],
   "source": [
    "head_TTS = np.subtract(head_arr,head_turn_arr)\n",
    "plot(range(0,len(head_arr)),head_TTS)\n",
    "pyplot.savefig(\"./results/\"+file_name[:-4]+\"_HT\"+\"1\"+\".png\")"
   ]
  },
  {
   "cell_type": "code",
   "execution_count": 15,
   "metadata": {},
   "outputs": [
    {
     "name": "stdout",
     "output_type": "stream",
     "text": [
      "[]\n",
      "0\n"
     ]
    }
   ],
   "source": [
    "HDrange = 1.0 / (1/960)\n",
    "#SS, RW, HD\n",
    "HD_arr = []\n",
    "\n",
    "def head_delay(section,head_ar):\n",
    "    for head in head_ar:\n",
    "        for delay in section.delay_dict.keys():\n",
    "            if(abs(head - int(delay)) <= HDrange):\n",
    "                HD_arr.append((int(delay) - head,section.delay_dict[delay][1],\n",
    "                               section.delay_dict[delay][0]))\n",
    "                break\n",
    "\n",
    "                \n",
    "head_delay(sections[SectionNumber],head_arr)\n",
    "#HD_arr.sort(key = lambda tup: tup[0])\n",
    "print(HD_arr)\n",
    "print(len(HD_arr))"
   ]
  },
  {
   "cell_type": "code",
   "execution_count": 16,
   "metadata": {},
   "outputs": [
    {
     "name": "stdout",
     "output_type": "stream",
     "text": [
      "76.8\n",
      "[]\n"
     ]
    }
   ],
   "source": [
    "H_inter = 0.08\n",
    "HS_inter = H_inter * 960\n",
    "print(HS_inter)\n",
    "#print(HS_inter)\n",
    "def cluster(HD_arr):\n",
    "    index = 0\n",
    "    cluster_arr = {}\n",
    "    total_arr = {}\n",
    "    res_arr = {}\n",
    "    for HD in HD_arr:\n",
    "        index = abs(HD[0]) // HS_inter\n",
    "        index = (index + 1) if (HD[0] >= 0)  else (-index - 1)\n",
    "        if(not index in total_arr):\n",
    "            total_arr[index] = 1\n",
    "        else:\n",
    "            total_arr[index] += 1\n",
    "        if(HD[1] == 1):\n",
    "            if(not index in cluster_arr):\n",
    "                cluster_arr[index] = 1\n",
    "            else:\n",
    "                cluster_arr[index] += 1\n",
    "        else:\n",
    "            if(not index in cluster_arr):\n",
    "                cluster_arr[index] = 0\n",
    "        for key in cluster_arr:\n",
    "            res_arr[key] = cluster_arr[key] / total_arr[key]\n",
    "    return res_arr\n",
    "\n",
    "HC_dict= cluster(HD_arr)\n",
    "HC_dict = sorted(HC_dict.items(), key = lambda HCD : HCD[0])\n",
    "print(HC_dict)"
   ]
  },
  {
   "cell_type": "code",
   "execution_count": 17,
   "metadata": {},
   "outputs": [],
   "source": [
    "def draw_Compare_Head(cur_popts,x_array,y_array):\n",
    "    Precise = 0.01\n",
    "    tpl, = plot(x_array,y_array,\".\")\n",
    "    x_min = np.amin(x_array)\n",
    "    x_max = np.amax(x_array)\n",
    "    cur_tpl, = plot(np.arange(x_min,x_max,Precise), sigmoid3(np.arange(x_min,x_max,Precise), *cur_popts))"
   ]
  },
  {
   "cell_type": "code",
   "execution_count": 18,
   "metadata": {},
   "outputs": [],
   "source": [
    "if(len(HC_dict) > 0):\n",
    "    index, res = zip(*HC_dict)\n",
    "    print(\"index \",index)\n",
    "    index = np.asarray(index)\n",
    "    res = np.asarray(res)\n",
    "    index = index*H_inter\n",
    "    print(\"index \",index)\n",
    "    print(\"res \",res)\n",
    "\n",
    "    plot(index,res)\n",
    "    pyplot.savefig(\"./results/\"+file_name[:-4]+\"_DP\"+\"2\"+\".png\")\n",
    "    pyplot.show()\n",
    "    \n",
    "    try:\n",
    "        H_tpl,H_popt = cur_fit(res,x_data = index)\n",
    "        pyplot.show()\n",
    "        draw_Compare_Head(H_popt,index,res)\n",
    "        pyplot.show()\n",
    "    except:\n",
    "        print(\"No fit\")"
   ]
  },
  {
   "cell_type": "markdown",
   "metadata": {},
   "source": [
    "for(section in sections):\n",
    "    "
   ]
  },
  {
   "cell_type": "code",
   "execution_count": 19,
   "metadata": {},
   "outputs": [],
   "source": [
    "def plot_acuity():\n",
    "    i = -1\n",
    "    legends = []\n",
    "    plines = []\n",
    "    for section in sections:\n",
    "        i += 1\n",
    "        tpl, = plot(range(0,AcuityNumber),sections[i].A_percent)\n",
    "        plines.append(tpl)\n",
    "        legends.append(sections[i].mode)\n",
    "    #legends[-1] = \"GazeShft\"\n",
    "    pyplot.legend(legends)\n",
    "    #plines[0].remove()"
   ]
  },
  {
   "cell_type": "code",
   "execution_count": 20,
   "metadata": {},
   "outputs": [],
   "source": [
    "for delay in sections[SectionNumber].delay_percent_list:\n",
    "    print(delay.keys(),delay.values())"
   ]
  },
  {
   "cell_type": "code",
   "execution_count": 21,
   "metadata": {},
   "outputs": [],
   "source": [
    "if(len(sections[SectionNumber].delay_percent_list) > 0):\n",
    "    tpl, = plot(sections[SectionNumber].delay_percent_list[0].keys(),sections[SectionNumber].delay_percent_list[0].values())\n",
    "    pyplot.savefig(\"./results/\"+file_name[:-4]+\"_DP\"+\"1\"+\".png\")"
   ]
  },
  {
   "cell_type": "code",
   "execution_count": 22,
   "metadata": {},
   "outputs": [],
   "source": [
    "if(len(sections[SectionNumber].delay_percent_list) > 0):\n",
    "    DF_tpl,DF_popt = cur_fit(list(sections[SectionNumber].delay_percent_list[0].values()))"
   ]
  },
  {
   "cell_type": "code",
   "execution_count": 23,
   "metadata": {},
   "outputs": [],
   "source": [
    "start = 60826\n",
    "end = 206593\n",
    "frac = 1.0/960.0\n",
    "def draw_compare_WYData(y_array,cur_popts,index):\n",
    "    Precise = 0.1\n",
    "    tpl, = plot(range(0,len(y_array)),y_array,\".\")\n",
    "    cur_tpl, = plot(np.arange(0,len(y_array),Precise), sigmoid3(np.arange(0,len(y_array),Precise), *cur_popts))\n",
    "#    for head_ss in head_arr:\n",
    "#        if(head_ss >= start and head_ss <= end):\n",
    "#            time = (head_ss - start)*frac\n",
    "#            pyplot.axvline(x=time)\n",
    "    pyplot.savefig(\"./results/\"+file_name[:-4]+\"_DR\"+index+\".png\")"
   ]
  },
  {
   "cell_type": "code",
   "execution_count": 24,
   "metadata": {},
   "outputs": [],
   "source": [
    "if(len(sections[SectionNumber].delay_percent_list) > 0):\n",
    "    draw_compare_WYData(list(sections[SectionNumber].delay_percent_list[0].values()),DF_popt,\"2\")"
   ]
  },
  {
   "cell_type": "code",
   "execution_count": 25,
   "metadata": {},
   "outputs": [],
   "source": [
    "def plot_delay():\n",
    "    i = 0\n",
    "    legends = []\n",
    "    plines = []\n",
    "    for section in sections:\n",
    "        for delay in section.delay_percent_list:\n",
    "            tpl, = plot(delay.keys(),delay.values())\n",
    "            plines.append(tpl)\n",
    "            legends.append(i)\n",
    "            i += 1\n",
    "    pyplot.legend(legends)"
   ]
  },
  {
   "cell_type": "code",
   "execution_count": 26,
   "metadata": {},
   "outputs": [
    {
     "name": "stdout",
     "output_type": "stream",
     "text": [
      "StaticAcuity\n",
      "[0.3333333333333333, 1.0, 1.0, 1.0, 1.0, 1.0, 1.0, 1.0, 1.0, 1.0]\n"
     ]
    },
    {
     "ename": "RuntimeError",
     "evalue": "Optimal parameters not found: Number of calls to function has reached maxfev = 800.",
     "output_type": "error",
     "traceback": [
      "\u001b[1;31m---------------------------------------------------------------------------\u001b[0m",
      "\u001b[1;31mRuntimeError\u001b[0m                              Traceback (most recent call last)",
      "\u001b[1;32m<ipython-input-26-2f794da3f6ea>\u001b[0m in \u001b[0;36m<module>\u001b[1;34m\u001b[0m\n\u001b[0;32m      5\u001b[0m     \u001b[0mprint\u001b[0m\u001b[1;33m(\u001b[0m\u001b[0msection\u001b[0m\u001b[1;33m.\u001b[0m\u001b[0mmode\u001b[0m\u001b[1;33m)\u001b[0m\u001b[1;33m\u001b[0m\u001b[1;33m\u001b[0m\u001b[0m\n\u001b[0;32m      6\u001b[0m     \u001b[0mlegends2\u001b[0m\u001b[1;33m.\u001b[0m\u001b[0mappend\u001b[0m\u001b[1;33m(\u001b[0m\u001b[0msection\u001b[0m\u001b[1;33m.\u001b[0m\u001b[0mmode\u001b[0m\u001b[1;33m)\u001b[0m\u001b[1;33m\u001b[0m\u001b[1;33m\u001b[0m\u001b[0m\n\u001b[1;32m----> 7\u001b[1;33m     \u001b[0mtlp\u001b[0m\u001b[1;33m,\u001b[0m\u001b[0mpopt\u001b[0m \u001b[1;33m=\u001b[0m \u001b[0mcur_fit\u001b[0m\u001b[1;33m(\u001b[0m\u001b[0msection\u001b[0m\u001b[1;33m.\u001b[0m\u001b[0mA_percent\u001b[0m\u001b[1;33m)\u001b[0m\u001b[1;33m\u001b[0m\u001b[1;33m\u001b[0m\u001b[0m\n\u001b[0m\u001b[0;32m      8\u001b[0m     \u001b[0mplines\u001b[0m\u001b[1;33m.\u001b[0m\u001b[0mappend\u001b[0m\u001b[1;33m(\u001b[0m\u001b[0mtlp\u001b[0m\u001b[1;33m)\u001b[0m\u001b[1;33m\u001b[0m\u001b[1;33m\u001b[0m\u001b[0m\n\u001b[0;32m      9\u001b[0m     \u001b[0mcur_popts\u001b[0m\u001b[1;33m.\u001b[0m\u001b[0mappend\u001b[0m\u001b[1;33m(\u001b[0m\u001b[0mpopt\u001b[0m\u001b[1;33m)\u001b[0m\u001b[1;33m\u001b[0m\u001b[1;33m\u001b[0m\u001b[0m\n",
      "\u001b[1;32m<ipython-input-7-5b5b284b412c>\u001b[0m in \u001b[0;36mcur_fit\u001b[1;34m(y_data, x_data)\u001b[0m\n\u001b[0;32m      3\u001b[0m     \u001b[1;32mif\u001b[0m\u001b[1;33m(\u001b[0m\u001b[0mlen\u001b[0m\u001b[1;33m(\u001b[0m\u001b[0mx_data\u001b[0m\u001b[1;33m)\u001b[0m \u001b[1;33m==\u001b[0m \u001b[1;36m0\u001b[0m\u001b[1;33m)\u001b[0m\u001b[1;33m:\u001b[0m\u001b[1;33m\u001b[0m\u001b[1;33m\u001b[0m\u001b[0m\n\u001b[0;32m      4\u001b[0m         \u001b[0mx_data\u001b[0m \u001b[1;33m=\u001b[0m \u001b[0mrange\u001b[0m\u001b[1;33m(\u001b[0m\u001b[1;36m0\u001b[0m\u001b[1;33m,\u001b[0m\u001b[0mlen\u001b[0m\u001b[1;33m(\u001b[0m\u001b[0my_data\u001b[0m\u001b[1;33m)\u001b[0m\u001b[1;33m)\u001b[0m\u001b[1;33m\u001b[0m\u001b[1;33m\u001b[0m\u001b[0m\n\u001b[1;32m----> 5\u001b[1;33m     \u001b[0mpopt\u001b[0m\u001b[1;33m,\u001b[0m \u001b[0mpcov\u001b[0m \u001b[1;33m=\u001b[0m \u001b[0mcurve_fit\u001b[0m\u001b[1;33m(\u001b[0m\u001b[0msigmoid3\u001b[0m\u001b[1;33m,\u001b[0m \u001b[0mx_data\u001b[0m\u001b[1;33m,\u001b[0m \u001b[0my_data\u001b[0m\u001b[1;33m)\u001b[0m\u001b[1;33m\u001b[0m\u001b[1;33m\u001b[0m\u001b[0m\n\u001b[0m\u001b[0;32m      6\u001b[0m     \u001b[0mtpl\u001b[0m\u001b[1;33m,\u001b[0m \u001b[1;33m=\u001b[0m \u001b[0mplot\u001b[0m\u001b[1;33m(\u001b[0m\u001b[0mx_data\u001b[0m\u001b[1;33m,\u001b[0m \u001b[0msigmoid3\u001b[0m\u001b[1;33m(\u001b[0m\u001b[0mx_data\u001b[0m\u001b[1;33m,\u001b[0m \u001b[1;33m*\u001b[0m\u001b[0mpopt\u001b[0m\u001b[1;33m)\u001b[0m\u001b[1;33m)\u001b[0m\u001b[1;33m\u001b[0m\u001b[1;33m\u001b[0m\u001b[0m\n\u001b[0;32m      7\u001b[0m     \u001b[0mprint\u001b[0m\u001b[1;33m(\u001b[0m\u001b[0mpopt\u001b[0m\u001b[1;33m)\u001b[0m\u001b[1;33m\u001b[0m\u001b[1;33m\u001b[0m\u001b[0m\n",
      "\u001b[1;32mC:\\ProgramData\\Anaconda3\\lib\\site-packages\\scipy\\optimize\\minpack.py\u001b[0m in \u001b[0;36mcurve_fit\u001b[1;34m(f, xdata, ydata, p0, sigma, absolute_sigma, check_finite, bounds, method, jac, **kwargs)\u001b[0m\n\u001b[0;32m    746\u001b[0m         \u001b[0mcost\u001b[0m \u001b[1;33m=\u001b[0m \u001b[0mnp\u001b[0m\u001b[1;33m.\u001b[0m\u001b[0msum\u001b[0m\u001b[1;33m(\u001b[0m\u001b[0minfodict\u001b[0m\u001b[1;33m[\u001b[0m\u001b[1;34m'fvec'\u001b[0m\u001b[1;33m]\u001b[0m \u001b[1;33m**\u001b[0m \u001b[1;36m2\u001b[0m\u001b[1;33m)\u001b[0m\u001b[1;33m\u001b[0m\u001b[1;33m\u001b[0m\u001b[0m\n\u001b[0;32m    747\u001b[0m         \u001b[1;32mif\u001b[0m \u001b[0mier\u001b[0m \u001b[1;32mnot\u001b[0m \u001b[1;32min\u001b[0m \u001b[1;33m[\u001b[0m\u001b[1;36m1\u001b[0m\u001b[1;33m,\u001b[0m \u001b[1;36m2\u001b[0m\u001b[1;33m,\u001b[0m \u001b[1;36m3\u001b[0m\u001b[1;33m,\u001b[0m \u001b[1;36m4\u001b[0m\u001b[1;33m]\u001b[0m\u001b[1;33m:\u001b[0m\u001b[1;33m\u001b[0m\u001b[1;33m\u001b[0m\u001b[0m\n\u001b[1;32m--> 748\u001b[1;33m             \u001b[1;32mraise\u001b[0m \u001b[0mRuntimeError\u001b[0m\u001b[1;33m(\u001b[0m\u001b[1;34m\"Optimal parameters not found: \"\u001b[0m \u001b[1;33m+\u001b[0m \u001b[0merrmsg\u001b[0m\u001b[1;33m)\u001b[0m\u001b[1;33m\u001b[0m\u001b[1;33m\u001b[0m\u001b[0m\n\u001b[0m\u001b[0;32m    749\u001b[0m     \u001b[1;32melse\u001b[0m\u001b[1;33m:\u001b[0m\u001b[1;33m\u001b[0m\u001b[1;33m\u001b[0m\u001b[0m\n\u001b[0;32m    750\u001b[0m         \u001b[1;31m# Rename maxfev (leastsq) to max_nfev (least_squares), if specified.\u001b[0m\u001b[1;33m\u001b[0m\u001b[1;33m\u001b[0m\u001b[1;33m\u001b[0m\u001b[0m\n",
      "\u001b[1;31mRuntimeError\u001b[0m: Optimal parameters not found: Number of calls to function has reached maxfev = 800."
     ]
    }
   ],
   "source": [
    "legends2 = []\n",
    "plines = []\n",
    "cur_popts = []\n",
    "for section in sections:\n",
    "    print(section.mode)\n",
    "    legends2.append(section.mode)\n",
    "    tlp,popt = cur_fit(section.A_percent)\n",
    "    plines.append(tlp)\n",
    "    cur_popts.append(popt)\n",
    "#legends2[-1] = \"GazeShft\"\n",
    "pyplot.legend(legends2)\n",
    "#plines[0].remove()"
   ]
  },
  {
   "cell_type": "code",
   "execution_count": null,
   "metadata": {},
   "outputs": [],
   "source": [
    "Precise = 0.1"
   ]
  },
  {
   "cell_type": "markdown",
   "metadata": {},
   "source": [
    "def draw_compare(index):\n",
    "    tpl, = plot(range(0,AcuityNumber),sections[index].A_percent,\".\")\n",
    "    cur_tpl, = plot(np.arange(0,len(sections[index].A_percent),Precise), sigmoid2(np.arange(0,len(sections[index].A_percent),Precise), *cur_popts[index]))\n",
    "    pyplot.legend([sections[index].mode])"
   ]
  },
  {
   "cell_type": "code",
   "execution_count": null,
   "metadata": {},
   "outputs": [],
   "source": [
    "def draw_compare(index):\n",
    "    tpl, = plot(range(0,AcuityNumber),sections[index].A_percent,\".\")\n",
    "    cur_tpl, = plot(np.arange(0,len(sections[index].A_percent),Precise), sigmoid3(np.arange(0,len(sections[index].A_percent),Precise), *cur_popts[index]))\n",
    "    pyplot.legend([sections[index].mode])\n",
    "    pyplot.savefig(\"./results/\"+file_name[:-4]+\"_AR\"+str(index)+\".png\")"
   ]
  },
  {
   "cell_type": "code",
   "execution_count": null,
   "metadata": {
    "scrolled": false
   },
   "outputs": [],
   "source": [
    "draw_compare(0)"
   ]
  },
  {
   "cell_type": "code",
   "execution_count": null,
   "metadata": {},
   "outputs": [],
   "source": []
  },
  {
   "cell_type": "code",
   "execution_count": null,
   "metadata": {},
   "outputs": [],
   "source": [
    "draw_compare(1)"
   ]
  },
  {
   "cell_type": "code",
   "execution_count": null,
   "metadata": {},
   "outputs": [],
   "source": [
    "draw_compare(2)"
   ]
  },
  {
   "cell_type": "code",
   "execution_count": null,
   "metadata": {},
   "outputs": [],
   "source": [
    "draw_compare(3)"
   ]
  },
  {
   "cell_type": "code",
   "execution_count": null,
   "metadata": {},
   "outputs": [],
   "source": [
    "y = 0.8\n",
    "print(percent_cal(1.27684543, 0.88405065 ,y))\n",
    "print(percent_cal(2.44631207, 0.69156386 ,y))\n",
    "print(percent_cal(3.20700723, 1.17558442 ,y))\n",
    "print(percent_cal(0.75669271, 1.70771435 ,y))"
   ]
  }
 ],
 "metadata": {
  "kernelspec": {
   "display_name": "Python 3",
   "language": "python",
   "name": "python3"
  },
  "language_info": {
   "codemirror_mode": {
    "name": "ipython",
    "version": 3
   },
   "file_extension": ".py",
   "mimetype": "text/x-python",
   "name": "python",
   "nbconvert_exporter": "python",
   "pygments_lexer": "ipython3",
   "version": "3.7.3"
  }
 },
 "nbformat": 4,
 "nbformat_minor": 2
}
