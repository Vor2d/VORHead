{
 "cells": [
  {
   "cell_type": "code",
   "execution_count": 1,
   "metadata": {},
   "outputs": [],
   "source": [
    "from matplotlib.pyplot import *\n",
    "from matplotlib import pyplot\n",
    "import math\n",
    "from scipy.optimize import *"
   ]
  },
  {
   "cell_type": "code",
   "execution_count": 2,
   "metadata": {},
   "outputs": [],
   "source": [
    "pyplot.rcParams[\"figure.figsize\"] = (20,10)"
   ]
  },
  {
   "cell_type": "code",
   "execution_count": 3,
   "metadata": {},
   "outputs": [],
   "source": [
    "AcuityNumber = 10"
   ]
  },
  {
   "cell_type": "code",
   "execution_count": 4,
   "metadata": {},
   "outputs": [],
   "source": [
    "class Section:\n",
    "    \n",
    "    def __init__(self,mode):\n",
    "        self.mode = mode\n",
    "        self.A_right = [0]*AcuityNumber\n",
    "        self.A_total = [0]*AcuityNumber\n",
    "        self.A_percent = [0]*AcuityNumber\n",
    "        self.delay_dict_list = []\n",
    "        self.delay_repeat = 0\n",
    "        self.delay_percent_list = []\n",
    "        \n",
    "    def calcul_percent(self):\n",
    "        for i in range(0,len(self.A_total)):\n",
    "            if self.A_total[i] != 0:\n",
    "                self.A_percent[i] = self.A_right[i] / self.A_total[i]\n",
    "                \n",
    "    def calcul_delay(self):\n",
    "        itera = 0\n",
    "        for delay_dict in self.delay_dict_list:\n",
    "            self.delay_percent_list.append({})\n",
    "            for elem in delay_dict:\n",
    "                self.delay_percent_list[itera][elem] = self.delay_dict_list[itera][elem] / self.delay_repeat\n",
    "            itera += 1\n",
    "        "
   ]
  },
  {
   "cell_type": "code",
   "execution_count": 5,
   "metadata": {},
   "outputs": [],
   "source": [
    "def sigmoid1(x):\n",
    "    return 1 / (1 + math.exp(-x))"
   ]
  },
  {
   "cell_type": "code",
   "execution_count": 6,
   "metadata": {},
   "outputs": [],
   "source": [
    "def sigmoid2(x, a, b):\n",
    "    return 0.875 / (1.0 + np.exp(-a*(x-b))) + 0.125"
   ]
  },
  {
   "cell_type": "markdown",
   "metadata": {},
   "source": [
    "$$f(x) = \\frac {L}{1+e^{-k(x-x_0)}} + Base$$"
   ]
  },
  {
   "cell_type": "code",
   "execution_count": 7,
   "metadata": {},
   "outputs": [],
   "source": [
    "def sigmoid3(x,a,b,c):\n",
    "    return c / (1.0+np.exp(-a*(x-b))) +0.125"
   ]
  },
  {
   "cell_type": "markdown",
   "metadata": {},
   "source": [
    "def cur_fit(y_data):\n",
    "    popt, pcov = curve_fit(sigmoid2, range(0,len(y_data)), y_data)\n",
    "    tpl, = plot(range(0,len(y_data)), sigmoid2(range(0,len(y_data)), *popt))\n",
    "    print(popt)\n",
    "    return tpl,popt"
   ]
  },
  {
   "cell_type": "code",
   "execution_count": 8,
   "metadata": {},
   "outputs": [],
   "source": [
    "def cur_fit(y_data):\n",
    "    popt, pcov = curve_fit(sigmoid3, range(0,len(y_data)), y_data)\n",
    "    tpl, = plot(range(0,len(y_data)), sigmoid3(range(0,len(y_data)), *popt))\n",
    "    print(popt)\n",
    "    return tpl,popt"
   ]
  },
  {
   "cell_type": "code",
   "execution_count": 9,
   "metadata": {},
   "outputs": [],
   "source": [
    "def percent_cal(k,x0,y):\n",
    "    loge1dym1 = math.log((1/y)-1)\n",
    "    return (loge1dym1)/(-k) + x0"
   ]
  },
  {
   "cell_type": "code",
   "execution_count": 10,
   "metadata": {
    "scrolled": true
   },
   "outputs": [],
   "source": [
    "path_name = \"./data/\"\n",
    "file_name = \"20190715103450_2.txt\""
   ]
  },
  {
   "cell_type": "code",
   "execution_count": 11,
   "metadata": {},
   "outputs": [],
   "source": [
    "file = open(path_name+file_name,\"r\")\n",
    "lines = file.readlines()"
   ]
  },
  {
   "cell_type": "code",
   "execution_count": 21,
   "metadata": {},
   "outputs": [
    {
     "name": "stdout",
     "output_type": "stream",
     "text": [
      "1\n"
     ]
    }
   ],
   "source": [
    "sections = []\n",
    "temp_section = None\n",
    "last_delay = 100\n",
    "init_delay = 0.0\n",
    "itera = -1\n",
    "for line in lines:\n",
    "    strings = line.split()\n",
    "    if(len(strings) > 3):\n",
    "        if(strings[1] == \"start\"):\n",
    "            if(temp_section != None):\n",
    "                sections.append(temp_section)\n",
    "            temp_section = Section(strings[4])\n",
    "        else:\n",
    "            try:\n",
    "                AZ = int(strings[3])\n",
    "            except:\n",
    "                AZ = -100\n",
    "            if(AZ>=0):\n",
    "                temp_section.A_total[AZ] += 1\n",
    "                if(last_delay == init_delay and itera == 0):\n",
    "                    temp_section.delay_repeat += 1\n",
    "                if(strings[4] == \"True\"):\n",
    "                    temp_section.A_right[AZ] += 1\n",
    "                    if(not last_delay in temp_section.delay_dict_list[-1].keys()):\n",
    "                        temp_section.delay_dict_list[-1][last_delay] = 1\n",
    "                    else:\n",
    "                        temp_section.delay_dict_list[-1][last_delay] += 1\n",
    "            elif(AZ == -2):\n",
    "                if(float(strings[4]) < last_delay):\n",
    "                    itera += 1\n",
    "                    temp_section.delay_dict_list.append({})\n",
    "                last_delay = float(strings[4])\n",
    "                if(temp_section.delay_repeat == 0):\n",
    "                    init_delay = float(strings[4])\n",
    "if(temp_section != None):\n",
    "    sections.append(temp_section)\n",
    "\n",
    "for section in sections:\n",
    "    section.calcul_percent()\n",
    "    \n",
    "for section in sections:\n",
    "    section.calcul_delay()"
   ]
  },
  {
   "cell_type": "markdown",
   "metadata": {},
   "source": [
    "for(section in sections):\n",
    "    "
   ]
  },
  {
   "cell_type": "code",
   "execution_count": 20,
   "metadata": {},
   "outputs": [],
   "source": [
    "def plot_acuity():\n",
    "    i = -1\n",
    "    legends = []\n",
    "    plines = []\n",
    "    for section in sections:\n",
    "        i += 1\n",
    "        tpl, = plot(range(0,AcuityNumber),sections[i].A_percent)\n",
    "        plines.append(tpl)\n",
    "        legends.append(sections[i].mode)\n",
    "    #legends[-1] = \"GazeShft\"\n",
    "    pyplot.legend(legends)\n",
    "    #plines[0].remove()"
   ]
  },
  {
   "cell_type": "code",
   "execution_count": null,
   "metadata": {},
   "outputs": [],
   "source": [
    "def plot_delay():\n",
    "    i = -1\n",
    "    legends = []\n",
    "    plines = []\n",
    "    for section in sections[0]:\n",
    "        i += 1\n",
    "        tpl, = plot(range(0,AcuityNumber),sections[i].A_percent)\n",
    "        plines.append(tpl)\n",
    "        legends.append(sections[i].mode)\n",
    "    #legends[-1] = \"GazeShft\"\n",
    "    pyplot.legend(legends)"
   ]
  },
  {
   "cell_type": "code",
   "execution_count": 14,
   "metadata": {},
   "outputs": [
    {
     "name": "stdout",
     "output_type": "stream",
     "text": [
      "PostDynamicAcuity\n",
      "[29.29474152  1.68772977 -0.125     ]\n"
     ]
    },
    {
     "data": {
      "text/plain": [
       "<matplotlib.legend.Legend at 0x2418488d4e0>"
      ]
     },
     "execution_count": 14,
     "metadata": {},
     "output_type": "execute_result"
    },
    {
     "data": {
      "image/png": "[encoded data removed]",
      "text/plain": [
       "<Figure size 1440x720 with 1 Axes>"
      ]
     },
     "metadata": {
      "needs_background": "light"
     },
     "output_type": "display_data"
    }
   ],
   "source": [
    "legends2 = []\n",
    "plines = []\n",
    "cur_popts = []\n",
    "for section in sections:\n",
    "    print(section.mode)\n",
    "    legends2.append(section.mode)\n",
    "    tlp,popt = cur_fit(section.A_percent)\n",
    "    plines.append(tlp)\n",
    "    cur_popts.append(popt)\n",
    "legends2[-1] = \"GazeShft\"\n",
    "pyplot.legend(legends2)\n",
    "#plines[0].remove()"
   ]
  },
  {
   "cell_type": "code",
   "execution_count": 15,
   "metadata": {},
   "outputs": [],
   "source": [
    "Precise = 0.1"
   ]
  },
  {
   "cell_type": "markdown",
   "metadata": {},
   "source": [
    "def draw_compare(index):\n",
    "    tpl, = plot(range(0,AcuityNumber),sections[index].A_percent,\".\")\n",
    "    cur_tpl, = plot(np.arange(0,len(sections[index].A_percent),Precise), sigmoid2(np.arange(0,len(sections[index].A_percent),Precise), *cur_popts[index]))\n",
    "    pyplot.legend([sections[index].mode])"
   ]
  },
  {
   "cell_type": "code",
   "execution_count": 16,
   "metadata": {},
   "outputs": [],
   "source": [
    "def draw_compare(index):\n",
    "    tpl, = plot(range(0,AcuityNumber),sections[index].A_percent,\".\")\n",
    "    cur_tpl, = plot(np.arange(0,len(sections[index].A_percent),Precise), sigmoid3(np.arange(0,len(sections[index].A_percent),Precise), *cur_popts[index]))\n",
    "    pyplot.legend([sections[index].mode])"
   ]
  },
  {
   "cell_type": "code",
   "execution_count": 17,
   "metadata": {
    "scrolled": false
   },
   "outputs": [
    {
     "data": {
      "image/png": "[encoded data removed]",
      "text/plain": [
       "<Figure size 1440x720 with 1 Axes>"
      ]
     },
     "metadata": {
      "needs_background": "light"
     },
     "output_type": "display_data"
    }
   ],
   "source": [
    "draw_compare(0)"
   ]
  },
  {
   "cell_type": "code",
   "execution_count": 18,
   "metadata": {},
   "outputs": [
    {
     "ename": "IndexError",
     "evalue": "list index out of range",
     "output_type": "error",
     "traceback": [
      "\u001b[1;31m---------------------------------------------------------------------------\u001b[0m",
      "\u001b[1;31mIndexError\u001b[0m                                Traceback (most recent call last)",
      "\u001b[1;32m<ipython-input-18-f3a0076dda5c>\u001b[0m in \u001b[0;36m<module>\u001b[1;34m\u001b[0m\n\u001b[1;32m----> 1\u001b[1;33m \u001b[0mdraw_compare\u001b[0m\u001b[1;33m(\u001b[0m\u001b[1;36m1\u001b[0m\u001b[1;33m)\u001b[0m\u001b[1;33m\u001b[0m\u001b[1;33m\u001b[0m\u001b[0m\n\u001b[0m",
      "\u001b[1;32m<ipython-input-16-5ef4d59e6ead>\u001b[0m in \u001b[0;36mdraw_compare\u001b[1;34m(index)\u001b[0m\n\u001b[0;32m      1\u001b[0m \u001b[1;32mdef\u001b[0m \u001b[0mdraw_compare\u001b[0m\u001b[1;33m(\u001b[0m\u001b[0mindex\u001b[0m\u001b[1;33m)\u001b[0m\u001b[1;33m:\u001b[0m\u001b[1;33m\u001b[0m\u001b[1;33m\u001b[0m\u001b[0m\n\u001b[1;32m----> 2\u001b[1;33m     \u001b[0mtpl\u001b[0m\u001b[1;33m,\u001b[0m \u001b[1;33m=\u001b[0m \u001b[0mplot\u001b[0m\u001b[1;33m(\u001b[0m\u001b[0mrange\u001b[0m\u001b[1;33m(\u001b[0m\u001b[1;36m0\u001b[0m\u001b[1;33m,\u001b[0m\u001b[0mAcuityNumber\u001b[0m\u001b[1;33m)\u001b[0m\u001b[1;33m,\u001b[0m\u001b[0msections\u001b[0m\u001b[1;33m[\u001b[0m\u001b[0mindex\u001b[0m\u001b[1;33m]\u001b[0m\u001b[1;33m.\u001b[0m\u001b[0mA_percent\u001b[0m\u001b[1;33m,\u001b[0m\u001b[1;34m\".\"\u001b[0m\u001b[1;33m)\u001b[0m\u001b[1;33m\u001b[0m\u001b[1;33m\u001b[0m\u001b[0m\n\u001b[0m\u001b[0;32m      3\u001b[0m     \u001b[0mcur_tpl\u001b[0m\u001b[1;33m,\u001b[0m \u001b[1;33m=\u001b[0m \u001b[0mplot\u001b[0m\u001b[1;33m(\u001b[0m\u001b[0mnp\u001b[0m\u001b[1;33m.\u001b[0m\u001b[0marange\u001b[0m\u001b[1;33m(\u001b[0m\u001b[1;36m0\u001b[0m\u001b[1;33m,\u001b[0m\u001b[0mlen\u001b[0m\u001b[1;33m(\u001b[0m\u001b[0msections\u001b[0m\u001b[1;33m[\u001b[0m\u001b[0mindex\u001b[0m\u001b[1;33m]\u001b[0m\u001b[1;33m.\u001b[0m\u001b[0mA_percent\u001b[0m\u001b[1;33m)\u001b[0m\u001b[1;33m,\u001b[0m\u001b[0mPrecise\u001b[0m\u001b[1;33m)\u001b[0m\u001b[1;33m,\u001b[0m \u001b[0msigmoid3\u001b[0m\u001b[1;33m(\u001b[0m\u001b[0mnp\u001b[0m\u001b[1;33m.\u001b[0m\u001b[0marange\u001b[0m\u001b[1;33m(\u001b[0m\u001b[1;36m0\u001b[0m\u001b[1;33m,\u001b[0m\u001b[0mlen\u001b[0m\u001b[1;33m(\u001b[0m\u001b[0msections\u001b[0m\u001b[1;33m[\u001b[0m\u001b[0mindex\u001b[0m\u001b[1;33m]\u001b[0m\u001b[1;33m.\u001b[0m\u001b[0mA_percent\u001b[0m\u001b[1;33m)\u001b[0m\u001b[1;33m,\u001b[0m\u001b[0mPrecise\u001b[0m\u001b[1;33m)\u001b[0m\u001b[1;33m,\u001b[0m \u001b[1;33m*\u001b[0m\u001b[0mcur_popts\u001b[0m\u001b[1;33m[\u001b[0m\u001b[0mindex\u001b[0m\u001b[1;33m]\u001b[0m\u001b[1;33m)\u001b[0m\u001b[1;33m)\u001b[0m\u001b[1;33m\u001b[0m\u001b[1;33m\u001b[0m\u001b[0m\n\u001b[0;32m      4\u001b[0m     \u001b[0mpyplot\u001b[0m\u001b[1;33m.\u001b[0m\u001b[0mlegend\u001b[0m\u001b[1;33m(\u001b[0m\u001b[1;33m[\u001b[0m\u001b[0msections\u001b[0m\u001b[1;33m[\u001b[0m\u001b[0mindex\u001b[0m\u001b[1;33m]\u001b[0m\u001b[1;33m.\u001b[0m\u001b[0mmode\u001b[0m\u001b[1;33m]\u001b[0m\u001b[1;33m)\u001b[0m\u001b[1;33m\u001b[0m\u001b[1;33m\u001b[0m\u001b[0m\n",
      "\u001b[1;31mIndexError\u001b[0m: list index out of range"
     ]
    }
   ],
   "source": [
    "draw_compare(1)"
   ]
  },
  {
   "cell_type": "code",
   "execution_count": null,
   "metadata": {},
   "outputs": [],
   "source": [
    "draw_compare(2)"
   ]
  },
  {
   "cell_type": "code",
   "execution_count": null,
   "metadata": {},
   "outputs": [],
   "source": [
    "draw_compare(3)"
   ]
  },
  {
   "cell_type": "code",
   "execution_count": null,
   "metadata": {},
   "outputs": [],
   "source": [
    "y = 0.8\n",
    "print(percent_cal(1.27684543, 0.88405065 ,y))\n",
    "print(percent_cal(2.44631207, 0.69156386 ,y))\n",
    "print(percent_cal(3.20700723, 1.17558442 ,y))\n",
    "print(percent_cal(0.75669271, 1.70771435 ,y))"
   ]
  }
 ],
 "metadata": {
  "kernelspec": {
   "display_name": "Python 3",
   "language": "python",
   "name": "python3"
  },
  "language_info": {
   "codemirror_mode": {
    "name": "ipython",
    "version": 3
   },
   "file_extension": ".py",
   "mimetype": "text/x-python",
   "name": "python",
   "nbconvert_exporter": "python",
   "pygments_lexer": "ipython3",
   "version": "3.7.3"
  }
 },
 "nbformat": 4,
 "nbformat_minor": 2
}
