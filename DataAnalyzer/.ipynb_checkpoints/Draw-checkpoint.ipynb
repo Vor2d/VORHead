{
 "cells": [
  {
   "cell_type": "code",
   "execution_count": 1,
   "metadata": {},
   "outputs": [],
   "source": [
    "import numpy\n",
    "import math\n",
    "from PIL import Image\n",
    "import matplotlib.pyplot as plt"
   ]
  },
  {
   "cell_type": "code",
   "execution_count": 2,
   "metadata": {},
   "outputs": [],
   "source": [
    "color = 255\n",
    "address = \"./landc/\"\n",
    "post = \".png\"\n",
    "noise_range = int(3)"
   ]
  },
  {
   "cell_type": "code",
   "execution_count": 3,
   "metadata": {},
   "outputs": [],
   "source": [
    "def point_dist(x1,y1,x2,y2):\n",
    "    deltx = abs(x1-x2)\n",
    "    delty = abs(y1-y2)\n",
    "    return math.sqrt(deltx*deltx + delty*delty)"
   ]
  },
  {
   "cell_type": "code",
   "execution_count": 4,
   "metadata": {},
   "outputs": [],
   "source": [
    "def cir_gener(r,res_arr,g):\n",
    "    arr = numpy.zeros((2*r+1,2*r+1))\n",
    "    cr,cc = r,r\n",
    "    for row in range(0,2*r+1):\n",
    "        for col in range(0,2*r+1):\n",
    "            arr[row][col] = point_dist(row,col,cr,cc)\n",
    "    arr = numpy.abs((arr-r)*1000)\n",
    "    arr = arr.astype(int)\n",
    "    minrv = arr.min(axis=1)\n",
    "    mincv = arr.min(axis=0) #min value calculate\n",
    "    res_rows,res_cols = res_arr.shape\n",
    "    rcr,rcc = int(res_rows/2),int(res_cols/2)\n",
    "    for row in range(0,res_rows):\n",
    "        for col in range(0,res_cols):\n",
    "            if(col > rcc and abs(row-rcr) <= g/2): #leave gap\n",
    "                continue\n",
    "            elif(abs(row - rcr) <= r and abs(col-rcc) <= r):\n",
    "                if(arr[row-rcr+r][col-rcc+r] == minrv[row-rcr+r]):\n",
    "                    res_arr[row][col] = color\n",
    "                if(arr[row-rcr+r][col-rcc+r] == mincv[col-rcc+r]):\n",
    "                    res_arr[row][col] = color"
   ]
  },
  {
   "cell_type": "code",
   "execution_count": 5,
   "metadata": {},
   "outputs": [],
   "source": [
    "def landc_draw(r):\n",
    "    d = 2*r+1\n",
    "    w = int(d/5)\n",
    "    g = int(d/5)\n",
    "    hw = int(w/2)\n",
    "    print(d,w,g)\n",
    "    res_arr = numpy.zeros((2*(hw+r)+1,2*(hw+r)+1),dtype = (numpy.uint8))\n",
    "    for i in range(-hw,hw+1):\n",
    "        cir_gener(r+i,res_arr,g)\n",
    "    de_noise(res_arr)\n",
    "    plt.imshow(res_arr)\n",
    "    plt.show()\n",
    "    return res_arr"
   ]
  },
  {
   "cell_type": "code",
   "execution_count": 6,
   "metadata": {},
   "outputs": [],
   "source": [
    "def de_noise(res_arr):\n",
    "    rows,cols = res_arr.shape\n",
    "    for r in range(0,rows):\n",
    "        for c in range(0,cols):\n",
    "            if(noise_check(res_arr,r,c,noise_range)):\n",
    "                res_arr[r][c] = color"
   ]
  },
  {
   "cell_type": "code",
   "execution_count": 7,
   "metadata": {},
   "outputs": [],
   "source": [
    "def noise_check(res_arr,r,c,count):\n",
    "    rows,cols = res_arr.shape\n",
    "    cou = 0\n",
    "    if(r == 0 or c == 0 or r == rows-1 or c == cols-1):\n",
    "        return False\n",
    "    if(res_arr[r][c] == 0):\n",
    "        if(res_arr[r-1][c] != 0):\n",
    "            cou += 1\n",
    "        if(res_arr[r+1][c] != 0):\n",
    "            cou += 1\n",
    "        if(res_arr[r][c-1] != 0):\n",
    "            cou += 1\n",
    "        if(res_arr[r][c+1] != 0):\n",
    "            cou += 1\n",
    "        return (cou >= count)\n",
    "    return False"
   ]
  },
  {
   "cell_type": "code",
   "execution_count": 8,
   "metadata": {},
   "outputs": [],
   "source": [
    "def land_draw_g(g):\n",
    "    r = (g*5-1)/2\n",
    "    return landc_draw(int(r))"
   ]
  },
  {
   "cell_type": "code",
   "execution_count": 9,
   "metadata": {},
   "outputs": [],
   "source": [
    "def save_image(res_arr,g):\n",
    "    image = Image.fromarray(res_arr,mode = \"L\")\n",
    "    image.save(address+str(g)+post)"
   ]
  },
  {
   "cell_type": "code",
   "execution_count": 10,
   "metadata": {
    "scrolled": false
   },
   "outputs": [
    {
     "name": "stdout",
     "output_type": "stream",
     "text": [
      "5 1 1\n"
     ]
    },
    {
     "data": {
      "image/png": "[encoded data removed]",
      "text/plain": [
       "<Figure size 432x288 with 1 Axes>"
      ]
     },
     "metadata": {
      "needs_background": "light"
     },
     "output_type": "display_data"
    },
    {
     "name": "stdout",
     "output_type": "stream",
     "text": [
      "15 3 3\n"
     ]
    },
    {
     "data": {
      "image/png": "[encoded data removed]",
      "text/plain": [
       "<Figure size 432x288 with 1 Axes>"
      ]
     },
     "metadata": {
      "needs_background": "light"
     },
     "output_type": "display_data"
    },
    {
     "name": "stdout",
     "output_type": "stream",
     "text": [
      "25 5 5\n"
     ]
    },
    {
     "data": {
      "image/png": "[encoded data removed]",
      "text/plain": [
       "<Figure size 432x288 with 1 Axes>"
      ]
     },
     "metadata": {
      "needs_background": "light"
     },
     "output_type": "display_data"
    },
    {
     "name": "stdout",
     "output_type": "stream",
     "text": [
      "35 7 7\n"
     ]
    },
    {
     "data": {
      "image/png": "[encoded data removed]",
      "text/plain": [
       "<Figure size 432x288 with 1 Axes>"
      ]
     },
     "metadata": {
      "needs_background": "light"
     },
     "output_type": "display_data"
    },
    {
     "name": "stdout",
     "output_type": "stream",
     "text": [
      "45 9 9\n"
     ]
    },
    {
     "data": {
      "image/png": "[encoded data removed]",
      "text/plain": [
       "<Figure size 432x288 with 1 Axes>"
      ]
     },
     "metadata": {
      "needs_background": "light"
     },
     "output_type": "display_data"
    },
    {
     "name": "stdout",
     "output_type": "stream",
     "text": [
      "55 11 11\n"
     ]
    },
    {
     "data": {
      "image/png": "[encoded data removed]",
      "text/plain": [
       "<Figure size 432x288 with 1 Axes>"
      ]
     },
     "metadata": {
      "needs_background": "light"
     },
     "output_type": "display_data"
    },
    {
     "name": "stdout",
     "output_type": "stream",
     "text": [
      "65 13 13\n"
     ]
    },
    {
     "data": {
      "image/png": "[encoded data removed]",
      "text/plain": [
       "<Figure size 432x288 with 1 Axes>"
      ]
     },
     "metadata": {
      "needs_background": "light"
     },
     "output_type": "display_data"
    },
    {
     "name": "stdout",
     "output_type": "stream",
     "text": [
      "75 15 15\n"
     ]
    },
    {
     "data": {
      "image/png": "[encoded data removed]",
      "text/plain": [
       "<Figure size 432x288 with 1 Axes>"
      ]
     },
     "metadata": {
      "needs_background": "light"
     },
     "output_type": "display_data"
    },
    {
     "name": "stdout",
     "output_type": "stream",
     "text": [
      "85 17 17\n"
     ]
    },
    {
     "data": {
      "image/png": "[encoded data removed]",
      "text/plain": [
       "<Figure size 432x288 with 1 Axes>"
      ]
     },
     "metadata": {
      "needs_background": "light"
     },
     "output_type": "display_data"
    },
    {
     "name": "stdout",
     "output_type": "stream",
     "text": [
      "95 19 19\n"
     ]
    },
    {
     "data": {
      "image/png": "[encoded data removed]",
      "text/plain": [
       "<Figure size 432x288 with 1 Axes>"
      ]
     },
     "metadata": {
      "needs_background": "light"
     },
     "output_type": "display_data"
    },
    {
     "name": "stdout",
     "output_type": "stream",
     "text": [
      "105 21 21\n"
     ]
    },
    {
     "data": {
      "image/png": "[encoded data removed]",
      "text/plain": [
       "<Figure size 432x288 with 1 Axes>"
      ]
     },
     "metadata": {
      "needs_background": "light"
     },
     "output_type": "display_data"
    },
    {
     "name": "stdout",
     "output_type": "stream",
     "text": [
      "115 23 23\n"
     ]
    },
    {
     "data": {
      "image/png": "[encoded data removed]",
      "text/plain": [
       "<Figure size 432x288 with 1 Axes>"
      ]
     },
     "metadata": {
      "needs_background": "light"
     },
     "output_type": "display_data"
    },
    {
     "name": "stdout",
     "output_type": "stream",
     "text": [
      "125 25 25\n"
     ]
    },
    {
     "data": {
      "image/png": "[encoded data removed]",
      "text/plain": [
       "<Figure size 432x288 with 1 Axes>"
      ]
     },
     "metadata": {
      "needs_background": "light"
     },
     "output_type": "display_data"
    },
    {
     "name": "stdout",
     "output_type": "stream",
     "text": [
      "135 27 27\n"
     ]
    },
    {
     "data": {
      "image/png": "[encoded data removed]",
      "text/plain": [
       "<Figure size 432x288 with 1 Axes>"
      ]
     },
     "metadata": {
      "needs_background": "light"
     },
     "output_type": "display_data"
    },
    {
     "name": "stdout",
     "output_type": "stream",
     "text": [
      "145 29 29\n"
     ]
    },
    {
     "data": {
      "image/png": "[encoded data removed]",
      "text/plain": [
       "<Figure size 432x288 with 1 Axes>"
      ]
     },
     "metadata": {
      "needs_background": "light"
     },
     "output_type": "display_data"
    }
   ],
   "source": [
    "for i in range(1,30,2):\n",
    "    res_arr = land_draw_g(i)\n",
    "    save_image(res_arr,i)"
   ]
  },
  {
   "cell_type": "code",
   "execution_count": null,
   "metadata": {},
   "outputs": [],
   "source": []
  }
 ],
 "metadata": {
  "kernelspec": {
   "display_name": "Python 3",
   "language": "python",
   "name": "python3"
  },
  "language_info": {
   "codemirror_mode": {
    "name": "ipython",
    "version": 3
   },
   "file_extension": ".py",
   "mimetype": "text/x-python",
   "name": "python",
   "nbconvert_exporter": "python",
   "pygments_lexer": "ipython3",
   "version": "3.7.3"
  }
 },
 "nbformat": 4,
 "nbformat_minor": 2
}
