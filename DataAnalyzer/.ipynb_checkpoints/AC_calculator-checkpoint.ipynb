{
 "cells": [
  {
   "cell_type": "code",
   "execution_count": 24,
   "metadata": {},
   "outputs": [],
   "source": [
    "import numpy\n",
    "import math"
   ]
  },
  {
   "cell_type": "code",
   "execution_count": 31,
   "metadata": {},
   "outputs": [],
   "source": [
    "size_data = numpy.array([1,3,5,5,7,7,9,9,11,11,13,13])\n",
    "p_dist = 800.0 #mm\n",
    "s_width = 1210.0 #mm\n",
    "ArcmPDeg = 1.0/60.0\n",
    "FeetsPArcm = 20.0"
   ]
  },
  {
   "cell_type": "code",
   "execution_count": 34,
   "metadata": {},
   "outputs": [],
   "source": [
    "PPMM = 3840.0/s_width\n",
    "size_hf = size_data/2.0\n",
    "size_MM = size_hf/PPMM\n",
    "ratio = size_MM / p_dist\n",
    "angle = numpy.degrees(numpy.arctan(ratio))\n",
    "arcm = angle / ArcmPDeg\n",
    "feets = arcm * FeetsPArcm\n",
    "logMar = numpy.log10(arcm)"
   ]
  },
  {
   "cell_type": "code",
   "execution_count": 36,
   "metadata": {},
   "outputs": [
    {
     "name": "stdout",
     "output_type": "stream",
     "text": [
      "[ 13.54060397  40.6218077   67.70299883  67.70299883  94.78416895\n",
      "  94.78416895 121.86530967 121.86530967 148.94641257 148.94641257\n",
      " 176.02746925 176.02746925]\n",
      "[-0.16939196  0.30772925  0.52957791  0.52957791  0.67570581  0.67570581\n",
      "  0.7848501   0.7848501   0.87200005  0.87200005  0.94455045  0.94455045]\n"
     ]
    }
   ],
   "source": [
    "print(feets)\n",
    "print(logMar)"
   ]
  },
  {
   "cell_type": "code",
   "execution_count": null,
   "metadata": {},
   "outputs": [],
   "source": []
  }
 ],
 "metadata": {
  "kernelspec": {
   "display_name": "Python 3",
   "language": "python",
   "name": "python3"
  },
  "language_info": {
   "codemirror_mode": {
    "name": "ipython",
    "version": 3
   },
   "file_extension": ".py",
   "mimetype": "text/x-python",
   "name": "python",
   "nbconvert_exporter": "python",
   "pygments_lexer": "ipython3",
   "version": "3.7.3"
  }
 },
 "nbformat": 4,
 "nbformat_minor": 2
}
