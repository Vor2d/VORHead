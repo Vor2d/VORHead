{
 "cells": [
  {
   "cell_type": "code",
   "execution_count": 1,
   "metadata": {},
   "outputs": [],
   "source": [
    "from scipy.io import loadmat\n",
    "from matplotlib import pyplot\n",
    "from matplotlib.pyplot import *\n",
    "import pandas as pd\n",
    "import numpy"
   ]
  },
  {
   "cell_type": "code",
   "execution_count": 2,
   "metadata": {},
   "outputs": [],
   "source": [
    "file_dir = \"./data/\"\n",
    "mat_name = \"MdataT.mat\""
   ]
  },
  {
   "cell_type": "code",
   "execution_count": 4,
   "metadata": {},
   "outputs": [],
   "source": [
    "file = loadmat(file_dir+mat_name)"
   ]
  },
  {
   "cell_type": "code",
   "execution_count": 6,
   "metadata": {},
   "outputs": [
    {
     "name": "stdout",
     "output_type": "stream",
     "text": [
      "[[1310724]\n",
      " [1310725]\n",
      " [1310726]\n",
      " ...\n",
      " [2512218]\n",
      " [2512219]\n",
      " [2512220]] file['sampleNo']\n",
      "1201497 file['sampleNo']\n",
      "{'__header__': b'MATLAB 5.0 MAT-file, Platform: PCWIN64, Created on: Fri Sep 27 09:48:27 2019', '__version__': '1.0', '__globals__': [], 'sampleNo': array([[1310724],\n",
      "       [1310725],\n",
      "       [1310726],\n",
      "       ...,\n",
      "       [2512218],\n",
      "       [2512219],\n",
      "       [2512220]]), 'head': array([[(array([[-115.27521857,  -53.87774927,  -26.06593258],\n",
      "       [-115.27490219,  -53.87728706,  -26.06558266],\n",
      "       [-115.27464246,  -53.87689818,  -26.06529103],\n",
      "       ...,\n",
      "       [ -91.36048692, -101.69265299,  -71.69839277],\n",
      "       [ -91.36027354, -101.69220064,  -71.69769627],\n",
      "       [ -91.36011865, -101.69194119,  -71.69722938]]), array([[-0.07379938, -0.00588629,  0.09542607],\n",
      "       [-0.15065696, -0.01576179,  0.18821652],\n",
      "       [-0.15948557, -0.02729709,  0.18066571],\n",
      "       ...,\n",
      "       [-0.09327316,  0.40071869,  0.48771023],\n",
      "       [-0.10273126,  0.40075001,  0.50472118],\n",
      "       [ 0.        ,  0.        ,  0.        ]]))]],\n",
      "      dtype=[('Pos', 'O'), ('Vel', 'O')])}\n"
     ]
    }
   ],
   "source": [
    "print(file['sampleNo'],\"file['sampleNo']\")\n",
    "print(len(file['sampleNo']),\"file['sampleNo']\")\n",
    "print(file)"
   ]
  }
 ],
 "metadata": {
  "kernelspec": {
   "display_name": "Python 3",
   "language": "python",
   "name": "python3"
  },
  "language_info": {
   "codemirror_mode": {
    "name": "ipython",
    "version": 3
   },
   "file_extension": ".py",
   "mimetype": "text/x-python",
   "name": "python",
   "nbconvert_exporter": "python",
   "pygments_lexer": "ipython3",
   "version": "3.7.3"
  }
 },
 "nbformat": 4,
 "nbformat_minor": 2
}
