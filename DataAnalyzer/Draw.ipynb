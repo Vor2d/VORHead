{
 "cells": [
  {
   "cell_type": "code",
   "execution_count": 1,
   "metadata": {},
   "outputs": [],
   "source": [
    "import numpy\n",
    "import math\n",
    "from PIL import Image\n",
    "import matplotlib.pyplot as plt\n",
    "import sys"
   ]
  },
  {
   "cell_type": "code",
   "execution_count": 2,
   "metadata": {},
   "outputs": [],
   "source": [
    "color = 255\n",
    "address = \"./landc/\"\n",
    "post = \".png\"\n",
    "noise_range = int(3)"
   ]
  },
  {
   "cell_type": "code",
   "execution_count": 3,
   "metadata": {},
   "outputs": [],
   "source": [
    "def point_dist(x1,y1,x2,y2):\n",
    "    deltx = int(abs(x1-x2))\n",
    "    delty = int(abs(y1-y2))\n",
    "    return math.sqrt(deltx*deltx + delty*delty)"
   ]
  },
  {
   "cell_type": "code",
   "execution_count": 4,
   "metadata": {},
   "outputs": [],
   "source": [
    "def cir_gener(r,res_arr,g,diag):\n",
    "    arr = numpy.zeros((2*r+1,2*r+1))\n",
    "    cr,cc = r,r #Relative center\n",
    "    for row in range(0,2*r+1):\n",
    "        for col in range(0,2*r+1):\n",
    "            arr[row][col] = point_dist(row,col,cr,cc)\n",
    "    arr = numpy.abs((arr-r)*1000)\n",
    "    arr = arr.astype(int)\n",
    "    minrv = arr.min(axis=1)\n",
    "    mincv = arr.min(axis=0) #min value calculate\n",
    "    res_rows,res_cols = res_arr.shape\n",
    "    rcr,rcc = int(res_rows/2),int(res_cols/2) #True center of the large matrix\n",
    "    if(diag):\n",
    "        diag_arr = diag_points(rcr)\n",
    "        #print(diag_arr)\n",
    "    for row in range(0,res_rows):\n",
    "        for col in range(0,res_cols):\n",
    "            if(not diag and (col > rcc and abs(row-rcr) <= g/2)): #leave gap\n",
    "                continue\n",
    "            elif(abs(row - rcr) <= r and abs(col-rcc) <= r):\n",
    "                if(arr[row-rcr+r][col-rcc+r] == minrv[row-rcr+r]):\n",
    "                    if(diag and (row < rcr and col > rcc) and point_diag_cal(row,col,diag_arr,g/2)):\n",
    "                        continue\n",
    "                    res_arr[row][col] = color\n",
    "                if(arr[row-rcr+r][col-rcc+r] == mincv[col-rcc+r]):\n",
    "                    if(diag and (row < rcr and col > rcc) and point_diag_cal(row,col,diag_arr,g/2)):\n",
    "                        continue\n",
    "                    res_arr[row][col] = color"
   ]
  },
  {
   "cell_type": "code",
   "execution_count": 5,
   "metadata": {},
   "outputs": [],
   "source": [
    "def diag_points(center):\n",
    "    diag_arr = numpy.zeros((center+1,2))\n",
    "    row,col = center,center\n",
    "    for i in range(0,center+1):\n",
    "        diag_arr[i][0] = row\n",
    "        diag_arr[i][1] = col\n",
    "        row -= 1\n",
    "        col += 1\n",
    "    return diag_arr"
   ]
  },
  {
   "cell_type": "code",
   "execution_count": 6,
   "metadata": {},
   "outputs": [],
   "source": [
    "def point_diag_cal(x,y,diag_arr,dist):\n",
    "    size = diag_arr.shape[0]\n",
    "    minv = int(diag_arr[0][0] * 2 + 1)\n",
    "    for i in range(0,size):\n",
    "        temp = point_dist(x,y,diag_arr[i][0],diag_arr[i][1])\n",
    "        if(minv > temp):\n",
    "            minv = temp\n",
    "        else:\n",
    "            break\n",
    "    return minv <= dist\n",
    "    "
   ]
  },
  {
   "cell_type": "code",
   "execution_count": 7,
   "metadata": {},
   "outputs": [
    {
     "name": "stdout",
     "output_type": "stream",
     "text": [
      "[[2. 2.]\n",
      " [1. 3.]\n",
      " [0. 4.]]\n",
      "False\n"
     ]
    }
   ],
   "source": [
    "arr = diag_points(2)\n",
    "jud = point_diag_cal(0,2,arr,1)\n",
    "print(arr)\n",
    "print(jud)"
   ]
  },
  {
   "cell_type": "code",
   "execution_count": 8,
   "metadata": {},
   "outputs": [],
   "source": [
    "def landc_draw(r,diag):\n",
    "    d = 2*r+1\n",
    "    w = int(d/5)\n",
    "    g = int(d/5)\n",
    "    hw = int(w/2)\n",
    "    print(d,w,g)\n",
    "    res_arr = numpy.zeros((2*(hw+r)+1,2*(hw+r)+1),dtype = (numpy.uint8))\n",
    "    for i in range(-hw,hw+1):\n",
    "        cir_gener(r+i,res_arr,g,diag)\n",
    "    de_noise(res_arr)\n",
    "    plt.imshow(res_arr)\n",
    "    plt.show()\n",
    "    return res_arr"
   ]
  },
  {
   "cell_type": "code",
   "execution_count": 9,
   "metadata": {},
   "outputs": [],
   "source": [
    "def de_noise(res_arr):\n",
    "    rows,cols = res_arr.shape\n",
    "    for r in range(0,rows):\n",
    "        for c in range(0,cols):\n",
    "            if(noise_check(res_arr,r,c,noise_range)):\n",
    "                res_arr[r][c] = color"
   ]
  },
  {
   "cell_type": "code",
   "execution_count": 10,
   "metadata": {},
   "outputs": [],
   "source": [
    "def noise_check(res_arr,r,c,count):\n",
    "    rows,cols = res_arr.shape\n",
    "    cou = 0\n",
    "    if(r == 0 or c == 0 or r == rows-1 or c == cols-1):\n",
    "        return False\n",
    "    if(res_arr[r][c] == 0):\n",
    "        if(res_arr[r-1][c] != 0):\n",
    "            cou += 1\n",
    "        if(res_arr[r+1][c] != 0):\n",
    "            cou += 1\n",
    "        if(res_arr[r][c-1] != 0):\n",
    "            cou += 1\n",
    "        if(res_arr[r][c+1] != 0):\n",
    "            cou += 1\n",
    "        return (cou >= count)\n",
    "    return False"
   ]
  },
  {
   "cell_type": "code",
   "execution_count": 11,
   "metadata": {},
   "outputs": [],
   "source": [
    "def land_draw_g(g,diag):\n",
    "    r = (g*5-1)/2\n",
    "    return landc_draw(int(r),diag)"
   ]
  },
  {
   "cell_type": "code",
   "execution_count": 12,
   "metadata": {},
   "outputs": [],
   "source": [
    "def save_image(res_arr,g):\n",
    "    image = Image.fromarray(res_arr,mode = \"L\")\n",
    "    image.save(address+str(g)+post)"
   ]
  },
  {
   "cell_type": "markdown",
   "metadata": {
    "scrolled": false
   },
   "source": [
    "for i in range(1,30,2):\n",
    "    res_arr = land_draw_g(i)\n",
    "    save_image(res_arr,i)"
   ]
  },
  {
   "cell_type": "markdown",
   "metadata": {},
   "source": [
    "res_arr = land_draw_g(37)\n",
    "save_image(res_arr,37)\n",
    "res_arr = land_draw_g(45)\n",
    "save_image(res_arr,45)\n",
    "res_arr = land_draw_g(57)\n",
    "save_image(res_arr,57)\n",
    "res_arr = land_draw_g(73)\n",
    "save_image(res_arr,73)\n",
    "res_arr = land_draw_g(91)\n",
    "save_image(res_arr,91)"
   ]
  },
  {
   "cell_type": "code",
   "execution_count": 13,
   "metadata": {
    "scrolled": false
   },
   "outputs": [
    {
     "name": "stdout",
     "output_type": "stream",
     "text": [
      "5 1 1\n"
     ]
    },
    {
     "data": {
      "image/png": "[encoded data removed]",
      "text/plain": [
       "<Figure size 432x288 with 1 Axes>"
      ]
     },
     "metadata": {
      "needs_background": "light"
     },
     "output_type": "display_data"
    },
    {
     "name": "stdout",
     "output_type": "stream",
     "text": [
      "15 3 3\n"
     ]
    },
    {
     "data": {
      "image/png": "[encoded data removed]",
      "text/plain": [
       "<Figure size 432x288 with 1 Axes>"
      ]
     },
     "metadata": {
      "needs_background": "light"
     },
     "output_type": "display_data"
    },
    {
     "name": "stdout",
     "output_type": "stream",
     "text": [
      "25 5 5\n"
     ]
    },
    {
     "data": {
      "image/png": "[encoded data removed]",
      "text/plain": [
       "<Figure size 432x288 with 1 Axes>"
      ]
     },
     "metadata": {
      "needs_background": "light"
     },
     "output_type": "display_data"
    },
    {
     "name": "stdout",
     "output_type": "stream",
     "text": [
      "35 7 7\n"
     ]
    },
    {
     "data": {
      "image/png": "[encoded data removed]",
      "text/plain": [
       "<Figure size 432x288 with 1 Axes>"
      ]
     },
     "metadata": {
      "needs_background": "light"
     },
     "output_type": "display_data"
    },
    {
     "name": "stdout",
     "output_type": "stream",
     "text": [
      "45 9 9\n"
     ]
    },
    {
     "data": {
      "image/png": "[encoded data removed]",
      "text/plain": [
       "<Figure size 432x288 with 1 Axes>"
      ]
     },
     "metadata": {
      "needs_background": "light"
     },
     "output_type": "display_data"
    },
    {
     "name": "stdout",
     "output_type": "stream",
     "text": [
      "55 11 11\n"
     ]
    },
    {
     "data": {
      "image/png": "[encoded data removed]",
      "text/plain": [
       "<Figure size 432x288 with 1 Axes>"
      ]
     },
     "metadata": {
      "needs_background": "light"
     },
     "output_type": "display_data"
    },
    {
     "name": "stdout",
     "output_type": "stream",
     "text": [
      "65 13 13\n"
     ]
    },
    {
     "data": {
      "image/png": "[encoded data removed]",
      "text/plain": [
       "<Figure size 432x288 with 1 Axes>"
      ]
     },
     "metadata": {
      "needs_background": "light"
     },
     "output_type": "display_data"
    },
    {
     "name": "stdout",
     "output_type": "stream",
     "text": [
      "75 15 15\n"
     ]
    },
    {
     "data": {
      "image/png": "[encoded data removed]",
      "text/plain": [
       "<Figure size 432x288 with 1 Axes>"
      ]
     },
     "metadata": {
      "needs_background": "light"
     },
     "output_type": "display_data"
    },
    {
     "name": "stdout",
     "output_type": "stream",
     "text": [
      "85 17 17\n"
     ]
    },
    {
     "data": {
      "image/png": "[encoded data removed]",
      "text/plain": [
       "<Figure size 432x288 with 1 Axes>"
      ]
     },
     "metadata": {
      "needs_background": "light"
     },
     "output_type": "display_data"
    },
    {
     "name": "stdout",
     "output_type": "stream",
     "text": [
      "95 19 19\n"
     ]
    },
    {
     "data": {
      "image/png": "[encoded data removed]",
      "text/plain": [
       "<Figure size 432x288 with 1 Axes>"
      ]
     },
     "metadata": {
      "needs_background": "light"
     },
     "output_type": "display_data"
    },
    {
     "name": "stdout",
     "output_type": "stream",
     "text": [
      "105 21 21\n"
     ]
    },
    {
     "data": {
      "image/png": "[encoded data removed]",
      "text/plain": [
       "<Figure size 432x288 with 1 Axes>"
      ]
     },
     "metadata": {
      "needs_background": "light"
     },
     "output_type": "display_data"
    },
    {
     "name": "stdout",
     "output_type": "stream",
     "text": [
      "115 23 23\n"
     ]
    },
    {
     "data": {
      "image/png": "[encoded data removed]",
      "text/plain": [
       "<Figure size 432x288 with 1 Axes>"
      ]
     },
     "metadata": {
      "needs_background": "light"
     },
     "output_type": "display_data"
    },
    {
     "name": "stdout",
     "output_type": "stream",
     "text": [
      "125 25 25\n"
     ]
    },
    {
     "data": {
      "image/png": "[encoded data removed]",
      "text/plain": [
       "<Figure size 432x288 with 1 Axes>"
      ]
     },
     "metadata": {
      "needs_background": "light"
     },
     "output_type": "display_data"
    },
    {
     "name": "stdout",
     "output_type": "stream",
     "text": [
      "135 27 27\n"
     ]
    },
    {
     "data": {
      "image/png": "[encoded data removed]",
      "text/plain": [
       "<Figure size 432x288 with 1 Axes>"
      ]
     },
     "metadata": {
      "needs_background": "light"
     },
     "output_type": "display_data"
    },
    {
     "name": "stdout",
     "output_type": "stream",
     "text": [
      "145 29 29\n"
     ]
    },
    {
     "data": {
      "image/png": "[encoded data removed]",
      "text/plain": [
       "<Figure size 432x288 with 1 Axes>"
      ]
     },
     "metadata": {
      "needs_background": "light"
     },
     "output_type": "display_data"
    }
   ],
   "source": [
    "for i in range(1,30,2): \n",
    "    res_arr = land_draw_g(i,True)\n",
    "    save_image(res_arr,i+100)"
   ]
  },
  {
   "cell_type": "code",
   "execution_count": null,
   "metadata": {},
   "outputs": [],
   "source": []
  }
 ],
 "metadata": {
  "kernelspec": {
   "display_name": "Python 3",
   "language": "python",
   "name": "python3"
  },
  "language_info": {
   "codemirror_mode": {
    "name": "ipython",
    "version": 3
   },
   "file_extension": ".py",
   "mimetype": "text/x-python",
   "name": "python",
   "nbconvert_exporter": "python",
   "pygments_lexer": "ipython3",
   "version": "3.7.3"
  }
 },
 "nbformat": 4,
 "nbformat_minor": 2
}
