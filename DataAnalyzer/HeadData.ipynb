{
 "cells": [
  {
   "cell_type": "code",
   "execution_count": 1,
   "metadata": {},
   "outputs": [],
   "source": [
    "from scipy.io import loadmat\n",
    "from matplotlib import pyplot\n",
    "from matplotlib.pyplot import *"
   ]
  },
  {
   "cell_type": "code",
   "execution_count": 2,
   "metadata": {},
   "outputs": [],
   "source": [
    "path = \"./data/\"\n",
    "filename = \"Mdata.mat\""
   ]
  },
  {
   "cell_type": "code",
   "execution_count": 3,
   "metadata": {},
   "outputs": [],
   "source": [
    "file = loadmat(path+filename)"
   ]
  },
  {
   "cell_type": "code",
   "execution_count": 4,
   "metadata": {},
   "outputs": [],
   "source": [
    "f_lenth = len(file['sampleNo'].ravel())"
   ]
  },
  {
   "cell_type": "code",
   "execution_count": 5,
   "metadata": {},
   "outputs": [],
   "source": [
    "def load_speed(start, end):\n",
    "    speed_list = []\n",
    "    i = 0\n",
    "    sample_list = file['sampleNo'].ravel()\n",
    "    for i in range(start,end):\n",
    "        speed_list.append((sample_list[i],file['head'][0][0][1][i][2]))\n",
    "    return speed_list"
   ]
  },
  {
   "cell_type": "code",
   "execution_count": 6,
   "metadata": {},
   "outputs": [
    {
     "name": "stdout",
     "output_type": "stream",
     "text": [
      "327673\n"
     ]
    }
   ],
   "source": [
    "speed_list = load_speed(0,f_lenth)\n",
    "print(f_lenth)"
   ]
  },
  {
   "cell_type": "code",
   "execution_count": 7,
   "metadata": {},
   "outputs": [],
   "source": [
    "speed_list2 = speed_list[0:300000]\n",
    "list1, list2 = zip(*speed_list2)"
   ]
  },
  {
   "cell_type": "code",
   "execution_count": 8,
   "metadata": {},
   "outputs": [
    {
     "data": {
      "text/plain": [
       "[<matplotlib.lines.Line2D at 0x17768f83080>]"
      ]
     },
     "execution_count": 8,
     "metadata": {},
     "output_type": "execute_result"
    },
    {
     "data": {
      "image/png": "[encoded data removed]",
      "text/plain": [
       "<Figure size 432x288 with 1 Axes>"
      ]
     },
     "metadata": {
      "needs_background": "light"
     },
     "output_type": "display_data"
    }
   ],
   "source": [
    "plot(list1,list2)"
   ]
  },
  {
   "cell_type": "code",
   "execution_count": 9,
   "metadata": {},
   "outputs": [
    {
     "name": "stdout",
     "output_type": "stream",
     "text": [
      "<class 'str'>\n",
      "__header__\n",
      "<class 'str'>\n",
      "__version__\n",
      "<class 'str'>\n",
      "__globals__\n",
      "<class 'str'>\n",
      "sampleNo\n",
      "<class 'str'>\n",
      "head\n",
      "<class 'str'>\n",
      "rightEye\n",
      "<class 'str'>\n",
      "leftEye\n"
     ]
    }
   ],
   "source": [
    "count = 0\n",
    "for attri in file:\n",
    "    print(type(attri))\n",
    "    print(attri)\n",
    "    count += 1"
   ]
  },
  {
   "cell_type": "code",
   "execution_count": 10,
   "metadata": {},
   "outputs": [
    {
     "name": "stdout",
     "output_type": "stream",
     "text": [
      "327673\n"
     ]
    }
   ],
   "source": [
    "print(len(file['head'][0][0][0]))"
   ]
  },
  {
   "cell_type": "code",
   "execution_count": 11,
   "metadata": {},
   "outputs": [
    {
     "name": "stdout",
     "output_type": "stream",
     "text": [
      "<class 'numpy.float64'>\n",
      "-0.2993568062622535\n"
     ]
    }
   ],
   "source": [
    "print(type(file['head'][0][0][1][0][0]))\n",
    "print(file['head'][0][0][1][10][2])"
   ]
  },
  {
   "cell_type": "code",
   "execution_count": 22,
   "metadata": {},
   "outputs": [
    {
     "name": "stdout",
     "output_type": "stream",
     "text": [
      "<class 'numpy.ndarray'>\n",
      "1\n",
      "[[(array([[  0.        ,  11.84929062,   1.83334651],\n",
      "       [  0.        ,  11.84967086,   1.83640382],\n",
      "       [  0.        ,  11.84987884,   1.83935571],\n",
      "       ...,\n",
      "       [  0.        , -47.22539702,  66.77777929],\n",
      "       [  0.        , -47.22505613,  66.77679313],\n",
      "       [  0.        , -47.22470165,  66.775794  ]]), array([[ 0.        ,  0.42699957,  2.96873313],\n",
      "       [ 0.        ,  0.28234983,  2.884414  ],\n",
      "       [ 0.        ,  0.09438339,  2.76684232],\n",
      "       ...,\n",
      "       [ 0.        ,  0.31448007, -0.93499835],\n",
      "       [ 0.        ,  0.33378028, -0.95294235],\n",
      "       [ 0.        ,  0.        ,  0.        ]]))]]\n"
     ]
    }
   ],
   "source": [
    "print(type(file['leftEye']))\n",
    "print(len(file['leftEye']))\n",
    "print(file['leftEye'])"
   ]
  },
  {
   "cell_type": "code",
   "execution_count": 23,
   "metadata": {},
   "outputs": [
    {
     "name": "stdout",
     "output_type": "stream",
     "text": [
      "<class 'numpy.ndarray'>\n",
      "1\n",
      "[(array([[  0.        ,  11.84929062,   1.83334651],\n",
      "       [  0.        ,  11.84967086,   1.83640382],\n",
      "       [  0.        ,  11.84987884,   1.83935571],\n",
      "       ...,\n",
      "       [  0.        , -47.22539702,  66.77777929],\n",
      "       [  0.        , -47.22505613,  66.77679313],\n",
      "       [  0.        , -47.22470165,  66.775794  ]]), array([[ 0.        ,  0.42699957,  2.96873313],\n",
      "       [ 0.        ,  0.28234983,  2.884414  ],\n",
      "       [ 0.        ,  0.09438339,  2.76684232],\n",
      "       ...,\n",
      "       [ 0.        ,  0.31448007, -0.93499835],\n",
      "       [ 0.        ,  0.33378028, -0.95294235],\n",
      "       [ 0.        ,  0.        ,  0.        ]]))]\n"
     ]
    }
   ],
   "source": [
    "print(type(file['leftEye'][0]))\n",
    "print(len(file['leftEye'][0]))\n",
    "print(file['leftEye'][0])"
   ]
  },
  {
   "cell_type": "code",
   "execution_count": 24,
   "metadata": {},
   "outputs": [
    {
     "name": "stdout",
     "output_type": "stream",
     "text": [
      "<class 'numpy.void'>\n",
      "2\n",
      "(array([[  0.        ,  11.84929062,   1.83334651],\n",
      "       [  0.        ,  11.84967086,   1.83640382],\n",
      "       [  0.        ,  11.84987884,   1.83935571],\n",
      "       ...,\n",
      "       [  0.        , -47.22539702,  66.77777929],\n",
      "       [  0.        , -47.22505613,  66.77679313],\n",
      "       [  0.        , -47.22470165,  66.775794  ]]), array([[ 0.        ,  0.42699957,  2.96873313],\n",
      "       [ 0.        ,  0.28234983,  2.884414  ],\n",
      "       [ 0.        ,  0.09438339,  2.76684232],\n",
      "       ...,\n",
      "       [ 0.        ,  0.31448007, -0.93499835],\n",
      "       [ 0.        ,  0.33378028, -0.95294235],\n",
      "       [ 0.        ,  0.        ,  0.        ]]))\n"
     ]
    }
   ],
   "source": [
    "#[velocity, position]\n",
    "print(type(file['leftEye'][0][0]))\n",
    "print(len(file['leftEye'][0][0]))\n",
    "print(file['leftEye'][0][0])"
   ]
  },
  {
   "cell_type": "code",
   "execution_count": 25,
   "metadata": {},
   "outputs": [
    {
     "name": "stdout",
     "output_type": "stream",
     "text": [
      "<class 'numpy.ndarray'>\n",
      "327673\n",
      "[[  0.          11.84929062   1.83334651]\n",
      " [  0.          11.84967086   1.83640382]\n",
      " [  0.          11.84987884   1.83935571]\n",
      " ...\n",
      " [  0.         -47.22539702  66.77777929]\n",
      " [  0.         -47.22505613  66.77679313]\n",
      " [  0.         -47.22470165  66.775794  ]]\n"
     ]
    }
   ],
   "source": [
    "print(type(file['leftEye'][0][0][0]))\n",
    "print(len(file['leftEye'][0][0][0]))\n",
    "print(file['leftEye'][0][0][0])"
   ]
  },
  {
   "cell_type": "code",
   "execution_count": 26,
   "metadata": {},
   "outputs": [
    {
     "name": "stdout",
     "output_type": "stream",
     "text": [
      "<class 'numpy.ndarray'>\n",
      "327673\n",
      "[[ 0.          0.42699957  2.96873313]\n",
      " [ 0.          0.28234983  2.884414  ]\n",
      " [ 0.          0.09438339  2.76684232]\n",
      " ...\n",
      " [ 0.          0.31448007 -0.93499835]\n",
      " [ 0.          0.33378028 -0.95294235]\n",
      " [ 0.          0.          0.        ]]\n"
     ]
    }
   ],
   "source": [
    "#[empty,vertical, horizotal]\n",
    "print(type(file['leftEye'][0][0][1]))\n",
    "print(len(file['leftEye'][0][0][1]))\n",
    "print(file['leftEye'][0][0][1])"
   ]
  }
 ],
 "metadata": {
  "kernelspec": {
   "display_name": "Python 3",
   "language": "python",
   "name": "python3"
  },
  "language_info": {
   "codemirror_mode": {
    "name": "ipython",
    "version": 3
   },
   "file_extension": ".py",
   "mimetype": "text/x-python",
   "name": "python",
   "nbconvert_exporter": "python",
   "pygments_lexer": "ipython3",
   "version": "3.7.3"
  }
 },
 "nbformat": 4,
 "nbformat_minor": 2
}
