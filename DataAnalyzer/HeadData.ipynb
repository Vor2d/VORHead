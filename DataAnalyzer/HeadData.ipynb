{
 "cells": [
  {
   "cell_type": "code",
   "execution_count": 2,
   "metadata": {},
   "outputs": [],
   "source": [
    "from scipy.io import loadmat"
   ]
  },
  {
   "cell_type": "code",
   "execution_count": 1,
   "metadata": {},
   "outputs": [],
   "source": [
    "path = \"./data/\"\n",
    "filename = \"061419111844\""
   ]
  },
  {
   "cell_type": "code",
   "execution_count": 3,
   "metadata": {},
   "outputs": [],
   "source": [
    "file = loadmat(path+filename)"
   ]
  },
  {
   "cell_type": "code",
   "execution_count": 14,
   "metadata": {},
   "outputs": [
    {
     "name": "stdout",
     "output_type": "stream",
     "text": [
      "<class 'str'>\n",
      "__header__\n",
      "<class 'str'>\n",
      "__version__\n",
      "<class 'str'>\n",
      "__globals__\n",
      "<class 'str'>\n",
      "sampleNo\n",
      "<class 'str'>\n",
      "head\n",
      "<class 'str'>\n",
      "rightEye\n",
      "<class 'str'>\n",
      "leftEye\n"
     ]
    }
   ],
   "source": [
    "count = 0\n",
    "for attri in file:\n",
    "    print(type(attri))\n",
    "    print(attri)\n",
    "    count += 1"
   ]
  },
  {
   "cell_type": "code",
   "execution_count": 24,
   "metadata": {},
   "outputs": [
    {
     "name": "stdout",
     "output_type": "stream",
     "text": [
      "3822935\n"
     ]
    }
   ],
   "source": [
    "print(len(file['head'][0][0][0]))"
   ]
  },
  {
   "cell_type": "code",
   "execution_count": 27,
   "metadata": {},
   "outputs": [
    {
     "name": "stdout",
     "output_type": "stream",
     "text": [
      "(array([[-167.42689807,   70.62351746,   -5.26014851],\n",
      "       [-167.42743289,   70.62344236,   -5.26023295],\n",
      "       [-167.42807942,   70.62334726,   -5.26029649],\n",
      "       ...,\n",
      "       [   4.95670349,  -63.63544365,   -3.96163054],\n",
      "       [   4.95667672,  -63.63561544,   -3.96138104],\n",
      "       [   4.95661291,  -63.63572621,   -3.96112717]]), array([[-0.15751775, -0.05127482,  0.31316597],\n",
      "       [-0.3141048 , -0.10241171,  0.62458766],\n",
      "       [-0.31111993, -0.1018372 ,  0.61924846],\n",
      "       ...,\n",
      "       [-0.05936266, -0.24502752,  0.06400105],\n",
      "       [-0.06454984, -0.26962694,  0.05251284],\n",
      "       [-0.0667323 , -0.29541612,  0.03921628]]))\n"
     ]
    }
   ],
   "source": [
    "print(file['head'][0][0])"
   ]
  },
  {
   "cell_type": "code",
   "execution_count": 19,
   "metadata": {},
   "outputs": [],
   "source": [
    "sampleNo = file['sampleNo'].ravel()"
   ]
  },
  {
   "cell_type": "code",
   "execution_count": 20,
   "metadata": {},
   "outputs": [
    {
     "name": "stdout",
     "output_type": "stream",
     "text": [
      "[2293767 2293768 2293769 ... 6116700 6116701 6116702]\n"
     ]
    }
   ],
   "source": [
    "print(sampleNo)"
   ]
  }
 ],
 "metadata": {
  "kernelspec": {
   "display_name": "Python 3",
   "language": "python",
   "name": "python3"
  },
  "language_info": {
   "codemirror_mode": {
    "name": "ipython",
    "version": 3
   },
   "file_extension": ".py",
   "mimetype": "text/x-python",
   "name": "python",
   "nbconvert_exporter": "python",
   "pygments_lexer": "ipython3",
   "version": "3.7.3"
  }
 },
 "nbformat": 4,
 "nbformat_minor": 2
}
