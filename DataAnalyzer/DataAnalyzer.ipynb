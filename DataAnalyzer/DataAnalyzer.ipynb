{
 "cells": [
  {
   "cell_type": "code",
   "execution_count": 1,
   "metadata": {},
   "outputs": [],
   "source": [
    "from matplotlib.pyplot import *\n",
    "from matplotlib import pyplot\n",
    "import math\n",
    "from scipy.optimize import *\n",
    "import numpy"
   ]
  },
  {
   "cell_type": "code",
   "execution_count": null,
   "metadata": {},
   "outputs": [],
   "source": [
    "filenames = {}"
   ]
  },
  {
   "cell_type": "code",
   "execution_count": 2,
   "metadata": {},
   "outputs": [],
   "source": [
    "class Section:\n",
    "    \n",
    "    def __init__(self,mode):\n",
    "        self.mode = mode\n",
    "        self.A_right = [0]*AcuityNumber\n",
    "        self.A_total = [0]*AcuityNumber\n",
    "        self.A_percent = [0]*AcuityNumber\n",
    "        self.delay_dict_list = []\n",
    "        self.delay_repeat = 0\n",
    "        self.delay_percent_list = []\n",
    "        self.delay_dict = {}\n",
    "        self.dir_dict = {}\n",
    "        \n",
    "    def calcul_percent(self):\n",
    "        for i in range(0,len(self.A_total)):\n",
    "            if self.A_total[i] != 0:\n",
    "                self.A_percent[i] = self.A_right[i] / self.A_total[i]\n",
    "                \n",
    "    def calcul_delay(self):\n",
    "        itera = 0\n",
    "        for delay_dict in self.delay_dict_list:\n",
    "            self.delay_percent_list.append({})\n",
    "            for elem in delay_dict:\n",
    "                print(self.delay_dict_list[itera][elem])\n",
    "                print(self.delay_repeat)\n",
    "                self.delay_percent_list[itera][elem] = self.delay_dict_list[itera][elem] / self.delay_repeat\n",
    "            itera += 1\n",
    "        "
   ]
  }
 ],
 "metadata": {
  "kernelspec": {
   "display_name": "Python 3",
   "language": "python",
   "name": "python3"
  },
  "language_info": {
   "codemirror_mode": {
    "name": "ipython",
    "version": 3
   },
   "file_extension": ".py",
   "mimetype": "text/x-python",
   "name": "python",
   "nbconvert_exporter": "python",
   "pygments_lexer": "ipython3",
   "version": "3.7.3"
  }
 },
 "nbformat": 4,
 "nbformat_minor": 2
}
