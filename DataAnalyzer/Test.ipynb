{
 "cells": [
  {
   "cell_type": "code",
   "execution_count": 1,
   "metadata": {},
   "outputs": [],
   "source": [
    "from matplotlib.pyplot import *\n",
    "from matplotlib import pyplot\n",
    "import math\n",
    "from scipy.optimize import *\n",
    "import numpy\n",
    "import os\n",
    "import datetime\n",
    "from scipy.io import loadmat"
   ]
  },
  {
   "cell_type": "code",
   "execution_count": 2,
   "metadata": {},
   "outputs": [],
   "source": [
    "def sigmoid3(x,a,b,c):\n",
    "    return c / (1.0+np.exp(-a*(x-b))) + 0.125"
   ]
  },
  {
   "cell_type": "code",
   "execution_count": 3,
   "metadata": {},
   "outputs": [
    {
     "name": "stdout",
     "output_type": "stream",
     "text": [
      "[13.43279276  0.04450427  0.77500023]\n"
     ]
    }
   ],
   "source": [
    "x_data = [0, 1, 2, 3, 4, 5, 6, 7, 8, 9]\n",
    "y_data = [0.4, 0.9, 0.8, 0.9, 0.9, 0.9, 0.9, 0.9, 1.0, 0.9]\n",
    "popt,pcov = curve_fit(sigmoid3, x_data, y_data)\n",
    "print(popt)"
   ]
  },
  {
   "cell_type": "code",
   "execution_count": 4,
   "metadata": {},
   "outputs": [],
   "source": [
    "def sigmoid2(x, a, b):\n",
    "    return 0.875 / (1.0 + np.exp(-a*(x-b))) + 0.125"
   ]
  },
  {
   "cell_type": "code",
   "execution_count": 5,
   "metadata": {},
   "outputs": [],
   "source": [
    "x_data = [0, 1, 2, 3, 4, 5, 6, 7, 8, 9]\n",
    "y_data = [0.3333333333333333, 0.99, 1.0, 1.0, 1.0, 1.0, 1.0, 1.0, 1.0, 1.0]\n",
    "popt,pcov = curve_fit(sigmoid3, x_data, y_data)"
   ]
  },
  {
   "cell_type": "code",
   "execution_count": 8,
   "metadata": {},
   "outputs": [
    {
     "name": "stdout",
     "output_type": "stream",
     "text": [
      "[1, 3, 2]\n"
     ]
    }
   ],
   "source": [
    "a = [1,3,2]\n",
    "b = [2,1,3]\n",
    "numpy.add(a,b)\n",
    "print(a)"
   ]
  },
  {
   "cell_type": "code",
   "execution_count": null,
   "metadata": {},
   "outputs": [],
   "source": []
  }
 ],
 "metadata": {
  "kernelspec": {
   "display_name": "Python 3",
   "language": "python",
   "name": "python3"
  },
  "language_info": {
   "codemirror_mode": {
    "name": "ipython",
    "version": 3
   },
   "file_extension": ".py",
   "mimetype": "text/x-python",
   "name": "python",
   "nbconvert_exporter": "python",
   "pygments_lexer": "ipython3",
   "version": "3.7.3"
  }
 },
 "nbformat": 4,
 "nbformat_minor": 2
}
